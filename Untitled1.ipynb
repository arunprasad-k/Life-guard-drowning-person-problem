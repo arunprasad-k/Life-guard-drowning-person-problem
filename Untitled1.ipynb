{
  "nbformat": 4,
  "nbformat_minor": 0,
  "metadata": {
    "colab": {
      "name": "Untitled1.ipynb",
      "provenance": [],
      "collapsed_sections": []
    },
    "kernelspec": {
      "name": "python3",
      "display_name": "Python 3"
    },
    "language_info": {
      "name": "python"
    }
  },
  "cells": [
    {
      "cell_type": "code",
      "execution_count": null,
      "metadata": {
        "colab": {
          "base_uri": "https://localhost:8080/"
        },
        "id": "N8UQKR4K0wGe",
        "outputId": "cc2596be-2ad2-4055-b7af-2eebfb9f425b"
      },
      "outputs": [
        {
          "output_type": "stream",
          "name": "stdout",
          "text": [
            "1\n",
            "1\n",
            "1\n",
            "-1\n",
            "1.2\n",
            "1.000000\n"
          ]
        }
      ],
      "source": [
        "import math\n",
        "\n",
        "def distance(x_l, y_l, x_w, y_w):\n",
        "  return math.sqrt((x_w-x_l)**2+(y_w-y_l)**2) #distance formula\n",
        "\n",
        "#Defining input values\n",
        "x_l=float(input())\n",
        "y_l=float(input())\n",
        "x_w=float(input())\n",
        "y_w=float(input())\n",
        "f=float(input())\n",
        "\n",
        "lower_bound=min(x_l,x_w)\n",
        "\n",
        "upper_bound=max(x_l,x_w)\n",
        "\n",
        "while(round(lower_bound,6)<round(upper_bound,6)):\n",
        "\n",
        "   mid=(l+upper_bound)/2.0\n",
        "\n",
        "   uppermid=(mid+upper_bound)/2.0\n",
        "\n",
        "   lowermid=(mid+lower_bound)/2.0\n",
        "\n",
        "    #time taken by guard from beach to drowning person\n",
        "\n",
        "   lower_time=distance(x_l,y_l,lowermid,0)/f+distance(lowermid,0,x_w,y_w)\n",
        "   upper_time=distance(x_l,y_l,uppermid,0)/f+distance(uppermid,0,x_w,y_w)\n",
        "   ''' that is lifeguard coverring distance from starting point of beach(x_l,y_l) to lowermid \n",
        "   then from lower mid to end point of person(x_w,y_w)'''\n",
        "\n",
        "   if(lower_time<=upper_time):\n",
        "\n",
        "       upper_bound=mid\n",
        "\n",
        "   else:\n",
        "\n",
        "       lower_bound=mid\n",
        "\n",
        "print(\"{0:.6f}\".format(upper_bound))"
      ]
    }
  ]
}